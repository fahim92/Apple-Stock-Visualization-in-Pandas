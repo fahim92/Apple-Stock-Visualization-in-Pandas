{
 "cells": [
  {
   "cell_type": "code",
   "execution_count": 1,
   "metadata": {},
   "outputs": [],
   "source": [
    "import pandas as pd"
   ]
  },
  {
   "cell_type": "code",
   "execution_count": 6,
   "metadata": {},
   "outputs": [
    {
     "data": {
      "text/html": [
       "<div>\n",
       "<style scoped>\n",
       "    .dataframe tbody tr th:only-of-type {\n",
       "        vertical-align: middle;\n",
       "    }\n",
       "\n",
       "    .dataframe tbody tr th {\n",
       "        vertical-align: top;\n",
       "    }\n",
       "\n",
       "    .dataframe thead th {\n",
       "        text-align: right;\n",
       "    }\n",
       "</style>\n",
       "<table border=\"1\" class=\"dataframe\">\n",
       "  <thead>\n",
       "    <tr style=\"text-align: right;\">\n",
       "      <th></th>\n",
       "      <th>Open</th>\n",
       "      <th>High</th>\n",
       "      <th>Low</th>\n",
       "      <th>Close</th>\n",
       "      <th>Adj Close</th>\n",
       "      <th>Volume</th>\n",
       "    </tr>\n",
       "    <tr>\n",
       "      <th>Date</th>\n",
       "      <th></th>\n",
       "      <th></th>\n",
       "      <th></th>\n",
       "      <th></th>\n",
       "      <th></th>\n",
       "      <th></th>\n",
       "    </tr>\n",
       "  </thead>\n",
       "  <tbody>\n",
       "    <tr>\n",
       "      <th>2019-06-18</th>\n",
       "      <td>196.050003</td>\n",
       "      <td>200.289993</td>\n",
       "      <td>195.210007</td>\n",
       "      <td>198.449997</td>\n",
       "      <td>196.109528</td>\n",
       "      <td>26551000</td>\n",
       "    </tr>\n",
       "    <tr>\n",
       "      <th>2019-06-19</th>\n",
       "      <td>199.679993</td>\n",
       "      <td>199.880005</td>\n",
       "      <td>197.309998</td>\n",
       "      <td>197.869995</td>\n",
       "      <td>195.536377</td>\n",
       "      <td>21124200</td>\n",
       "    </tr>\n",
       "    <tr>\n",
       "      <th>2019-06-20</th>\n",
       "      <td>200.369995</td>\n",
       "      <td>200.610001</td>\n",
       "      <td>198.029999</td>\n",
       "      <td>199.460007</td>\n",
       "      <td>197.107620</td>\n",
       "      <td>21514000</td>\n",
       "    </tr>\n",
       "    <tr>\n",
       "      <th>2019-06-21</th>\n",
       "      <td>198.800003</td>\n",
       "      <td>200.850006</td>\n",
       "      <td>198.149994</td>\n",
       "      <td>198.779999</td>\n",
       "      <td>196.435623</td>\n",
       "      <td>47800600</td>\n",
       "    </tr>\n",
       "    <tr>\n",
       "      <th>2019-06-24</th>\n",
       "      <td>198.539993</td>\n",
       "      <td>200.160004</td>\n",
       "      <td>198.169998</td>\n",
       "      <td>198.580002</td>\n",
       "      <td>196.237991</td>\n",
       "      <td>18220400</td>\n",
       "    </tr>\n",
       "  </tbody>\n",
       "</table>\n",
       "</div>"
      ],
      "text/plain": [
       "                  Open        High         Low       Close   Adj Close  \\\n",
       "Date                                                                     \n",
       "2019-06-18  196.050003  200.289993  195.210007  198.449997  196.109528   \n",
       "2019-06-19  199.679993  199.880005  197.309998  197.869995  195.536377   \n",
       "2019-06-20  200.369995  200.610001  198.029999  199.460007  197.107620   \n",
       "2019-06-21  198.800003  200.850006  198.149994  198.779999  196.435623   \n",
       "2019-06-24  198.539993  200.160004  198.169998  198.580002  196.237991   \n",
       "\n",
       "              Volume  \n",
       "Date                  \n",
       "2019-06-18  26551000  \n",
       "2019-06-19  21124200  \n",
       "2019-06-20  21514000  \n",
       "2019-06-21  47800600  \n",
       "2019-06-24  18220400  "
      ]
     },
     "execution_count": 6,
     "metadata": {},
     "output_type": "execute_result"
    }
   ],
   "source": [
    "apple_data = pd.read_csv('AAPL.csv', index_col= \"Date\", parse_dates = True)\n",
    "apple_data.head()"
   ]
  },
  {
   "cell_type": "code",
   "execution_count": 7,
   "metadata": {},
   "outputs": [
    {
     "data": {
      "text/plain": [
       "array([198.449997, 197.869995, 199.460007, 198.779999, 198.580002,\n",
       "       195.570007, 199.800003, 199.740005, 197.919998, 201.550003,\n",
       "       202.729996, 204.410004, 204.229996, 200.020004, 201.240005,\n",
       "       203.229996, 201.75    , 203.300003, 205.210007, 204.5     ,\n",
       "       203.350006, 205.660004, 202.589996, 207.220001, 208.839996,\n",
       "       208.669998, 207.020004, 207.740005, 209.679993, 208.779999,\n",
       "       213.039993, 208.429993, 204.020004, 193.339996, 197.      ,\n",
       "       199.039993, 203.429993, 200.990005, 200.479996, 208.970001,\n",
       "       202.75    , 201.740005, 206.5     , 210.350006, 210.360001,\n",
       "       212.639999, 212.460007, 202.639999, 206.490005, 204.160004,\n",
       "       205.529999, 209.009995, 208.740005, 205.699997, 209.190002,\n",
       "       213.279999, 213.259995, 214.169998, 216.699997, 223.589996,\n",
       "       223.089996, 218.75    , 219.899994, 220.699997, 222.770004,\n",
       "       220.960007, 217.729996, 218.720001, 217.679993, 221.029999,\n",
       "       219.889999, 218.820007, 223.970001, 224.589996, 218.960007,\n",
       "       220.820007, 227.009995, 227.059998, 224.399994, 227.029999,\n",
       "       230.089996, 236.210007, 235.869995, 235.320007, 234.369995,\n",
       "       235.279999, 236.410004, 240.509995, 239.960007, 243.179993,\n",
       "       243.580002, 246.580002, 249.050003, 243.289993, 243.259995,\n",
       "       248.759995, 255.820007, 257.5     , 257.130005, 257.23999 ,\n",
       "       259.429993, 260.140015, 262.200012, 261.959991, 264.470001,\n",
       "       262.640015, 265.76001 , 267.100006, 266.290009, 263.190002,\n",
       "       262.01001 , 261.779999, 266.369995, 264.290009, 267.839996,\n",
       "       267.25    , 264.160004, 259.450012, 261.73999 , 265.579987,\n",
       "       270.709991, 266.920013, 268.480011, 270.769989, 271.459991,\n",
       "       275.149994, 279.859985, 280.410004, 279.73999 , 280.019989,\n",
       "       279.440002, 284.      , 284.269989, 289.910004, 289.799988,\n",
       "       291.519989, 293.649994, 300.350006, 297.429993, 299.799988,\n",
       "       298.390015, 303.190002, 309.630005, 310.329987, 316.959991,\n",
       "       312.679993, 311.339996, 315.23999 , 318.730011, 316.570007,\n",
       "       317.700012, 319.230011, 318.309998, 308.950012, 317.690002,\n",
       "       324.339996, 323.869995, 309.51001 , 308.660004, 318.850006,\n",
       "       321.450012, 325.209991, 320.029999, 321.549988, 319.609985,\n",
       "       327.200012, 324.869995, 324.950012, 319.      , 323.619995,\n",
       "       320.299988, 313.049988, 298.179993, 288.079987, 292.649994,\n",
       "       273.519989, 273.359985, 298.809998, 289.320007, 302.73999 ,\n",
       "       292.920013, 289.029999, 266.170013, 285.339996, 275.429993,\n",
       "       248.229996, 277.970001, 242.210007, 252.860001, 246.669998,\n",
       "       244.779999, 229.240005, 224.369995, 246.880005, 245.520004,\n",
       "       258.440002, 247.740005, 254.809998, 254.289993, 240.910004,\n",
       "       244.929993, 241.410004, 262.470001, 259.429993, 266.070007,\n",
       "       267.98999 , 273.25    , 287.049988, 284.429993, 286.690002,\n",
       "       282.799988, 276.929993, 268.369995, 276.100006, 275.029999,\n",
       "       282.970001, 283.170013, 278.579987, 287.730011, 293.799988,\n",
       "       289.070007, 293.160004, 297.559998, 300.630005, 303.73999 ,\n",
       "       310.130005, 315.01001 , 311.410004, 307.649994, 309.540009,\n",
       "       307.709991, 314.959991, 313.140015, 319.230011, 316.850006,\n",
       "       318.890015, 316.730011, 318.109985, 318.25    , 317.940002,\n",
       "       321.850006, 323.339996, 325.119995, 322.320007, 331.5     ,\n",
       "       333.459991, 343.98999 , 352.839996, 335.899994, 338.799988,\n",
       "       342.98999 , 352.079987, 351.589996, 351.730011])"
      ]
     },
     "execution_count": 7,
     "metadata": {},
     "output_type": "execute_result"
    }
   ],
   "source": [
    "close = apple_data['Close'].values\n",
    "close"
   ]
  },
  {
   "cell_type": "code",
   "execution_count": 9,
   "metadata": {},
   "outputs": [
    {
     "data": {
      "text/plain": [
       "Date\n",
       "2019-06-18    198.449997\n",
       "2019-06-19    197.869995\n",
       "2019-06-20    199.460007\n",
       "2019-06-21    198.779999\n",
       "2019-06-24    198.580002\n",
       "                 ...    \n",
       "2020-06-12    338.799988\n",
       "2020-06-15    342.989990\n",
       "2020-06-16    352.079987\n",
       "2020-06-17    351.589996\n",
       "2020-06-18    351.730011\n",
       "Name: Close, Length: 254, dtype: float64"
      ]
     },
     "execution_count": 9,
     "metadata": {},
     "output_type": "execute_result"
    }
   ],
   "source": [
    "close_series = apple_data['Close']\n",
    "close_series"
   ]
  },
  {
   "cell_type": "code",
   "execution_count": 10,
   "metadata": {},
   "outputs": [
    {
     "data": {
      "text/html": [
       "<div>\n",
       "<style scoped>\n",
       "    .dataframe tbody tr th:only-of-type {\n",
       "        vertical-align: middle;\n",
       "    }\n",
       "\n",
       "    .dataframe tbody tr th {\n",
       "        vertical-align: top;\n",
       "    }\n",
       "\n",
       "    .dataframe thead th {\n",
       "        text-align: right;\n",
       "    }\n",
       "</style>\n",
       "<table border=\"1\" class=\"dataframe\">\n",
       "  <thead>\n",
       "    <tr style=\"text-align: right;\">\n",
       "      <th></th>\n",
       "      <th>High</th>\n",
       "      <th>Low</th>\n",
       "    </tr>\n",
       "    <tr>\n",
       "      <th>Date</th>\n",
       "      <th></th>\n",
       "      <th></th>\n",
       "    </tr>\n",
       "  </thead>\n",
       "  <tbody>\n",
       "    <tr>\n",
       "      <th>2019-06-18</th>\n",
       "      <td>200.289993</td>\n",
       "      <td>195.210007</td>\n",
       "    </tr>\n",
       "    <tr>\n",
       "      <th>2019-06-19</th>\n",
       "      <td>199.880005</td>\n",
       "      <td>197.309998</td>\n",
       "    </tr>\n",
       "    <tr>\n",
       "      <th>2019-06-20</th>\n",
       "      <td>200.610001</td>\n",
       "      <td>198.029999</td>\n",
       "    </tr>\n",
       "    <tr>\n",
       "      <th>2019-06-21</th>\n",
       "      <td>200.850006</td>\n",
       "      <td>198.149994</td>\n",
       "    </tr>\n",
       "    <tr>\n",
       "      <th>2019-06-24</th>\n",
       "      <td>200.160004</td>\n",
       "      <td>198.169998</td>\n",
       "    </tr>\n",
       "    <tr>\n",
       "      <th>...</th>\n",
       "      <td>...</td>\n",
       "      <td>...</td>\n",
       "    </tr>\n",
       "    <tr>\n",
       "      <th>2020-06-12</th>\n",
       "      <td>347.799988</td>\n",
       "      <td>334.220001</td>\n",
       "    </tr>\n",
       "    <tr>\n",
       "      <th>2020-06-15</th>\n",
       "      <td>345.679993</td>\n",
       "      <td>332.579987</td>\n",
       "    </tr>\n",
       "    <tr>\n",
       "      <th>2020-06-16</th>\n",
       "      <td>353.200012</td>\n",
       "      <td>344.720001</td>\n",
       "    </tr>\n",
       "    <tr>\n",
       "      <th>2020-06-17</th>\n",
       "      <td>355.399994</td>\n",
       "      <td>351.089996</td>\n",
       "    </tr>\n",
       "    <tr>\n",
       "      <th>2020-06-18</th>\n",
       "      <td>353.444397</td>\n",
       "      <td>349.220001</td>\n",
       "    </tr>\n",
       "  </tbody>\n",
       "</table>\n",
       "<p>254 rows × 2 columns</p>\n",
       "</div>"
      ],
      "text/plain": [
       "                  High         Low\n",
       "Date                              \n",
       "2019-06-18  200.289993  195.210007\n",
       "2019-06-19  199.880005  197.309998\n",
       "2019-06-20  200.610001  198.029999\n",
       "2019-06-21  200.850006  198.149994\n",
       "2019-06-24  200.160004  198.169998\n",
       "...                ...         ...\n",
       "2020-06-12  347.799988  334.220001\n",
       "2020-06-15  345.679993  332.579987\n",
       "2020-06-16  353.200012  344.720001\n",
       "2020-06-17  355.399994  351.089996\n",
       "2020-06-18  353.444397  349.220001\n",
       "\n",
       "[254 rows x 2 columns]"
      ]
     },
     "execution_count": 10,
     "metadata": {},
     "output_type": "execute_result"
    }
   ],
   "source": [
    "close_series1=apple_data[['High','Low']]\n",
    "close_series1"
   ]
  },
  {
   "cell_type": "code",
   "execution_count": 11,
   "metadata": {},
   "outputs": [],
   "source": [
    "import matplotlib.pyplot as plt"
   ]
  },
  {
   "cell_type": "code",
   "execution_count": 19,
   "metadata": {},
   "outputs": [
    {
     "data": {
      "image/png": "[encoded data removed]",
      "text/plain": [
       "<Figure size 432x288 with 1 Axes>"
      ]
     },
     "metadata": {
      "needs_background": "light"
     },
     "output_type": "display_data"
    }
   ],
   "source": [
    "close_series.plot(color = 'b',style='.', legend=True)\n",
    "apple_data['High'].plot(color = 'r',style='.-', legend=True)\n",
    "plt.savefig('apple.jpg')\n",
    "plt.show()"
   ]
  },
  {
   "cell_type": "code",
   "execution_count": 14,
   "metadata": {},
   "outputs": [
    {
     "data": {
      "text/plain": [
       "<matplotlib.axes._subplots.AxesSubplot at 0xe1a6f30>"
      ]
     },
     "execution_count": 14,
     "metadata": {},
     "output_type": "execute_result"
    },
    {
     "data": {
      "image/png": "[encoded data removed]",
      "text/plain": [
       "<Figure size 432x288 with 1 Axes>"
      ]
     },
     "metadata": {
      "needs_background": "light"
     },
     "output_type": "display_data"
    }
   ],
   "source": [
    "apple_data['High'].plot(color = 'r')"
   ]
  },
  {
   "cell_type": "code",
   "execution_count": null,
   "metadata": {},
   "outputs": [],
   "source": []
  }
 ],
 "metadata": {
  "kernelspec": {
   "display_name": "Python 3",
   "language": "python",
   "name": "python3"
  },
  "language_info": {
   "codemirror_mode": {
    "name": "ipython",
    "version": 3
   },
   "file_extension": ".py",
   "mimetype": "text/x-python",
   "name": "python",
   "nbconvert_exporter": "python",
   "pygments_lexer": "ipython3",
   "version": "3.7.6"
  }
 },
 "nbformat": 4,
 "nbformat_minor": 4
}
